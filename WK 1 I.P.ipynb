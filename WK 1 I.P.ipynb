{
 "cells": [
  {
   "cell_type": "markdown",
   "id": "4c462649-97e5-4830-b73a-061a74d57d98",
   "metadata": {},
   "source": [
    "Mortgage Calculator\n",
    "Kelly is an upcoming entrepreneur who is working on setting up 3 factories in the next month. She discovers that she needs GHS 1,000,000 but unfortunately does not have that amount to begin the factories. This happens to be a big blow in the business plans made by Kelly. Kelly being an industrious individual decides to still move on with the project. She contacts her banker, and an agreement is made to offer her a loan to proceed with her project. Kelly asks her banker the amount she has to pay each month to be able to settle the loan. Now the banker has to develop a program to make the calculations.\n",
    "\n",
    "example:\n",
    "- mortgage loan principal = 100000\n",
    "- percent annual interest= 7.5\n",
    "- years to pay off mortgagE= 30\n",
    "\n",
    "output result\n",
    "For a 30-year mortgage loan of $100,000 at an annual interest rate of 7.50%   you pay $699.21 monthly. Total amount paid will be $251,717.22\n",
    "Formula : M = P [ i(1 + i)^n ] / [ (1 + i)^n – 1] \n",
    "M = Total monthly payment\n",
    "P = The total amount of your loan\n",
    "i = Your interest rate, as a monthly percentage\n",
    "N = The total amount of months in your timeline for paying off your mortgage."
   ]
  },
  {
   "cell_type": "code",
   "execution_count": 57,
   "id": "9f6e89a8-8ed7-4533-ab52-b6f7e5565d3d",
   "metadata": {},
   "outputs": [
    {
     "name": "stdin",
     "output_type": "stream",
     "text": [
      "Input your principal:  100000\n",
      "Input your annual interest:  7.5\n",
      "Input the number of years:  30\n"
     ]
    },
    {
     "name": "stdout",
     "output_type": "stream",
     "text": [
      " \n",
      " \n",
      " \n",
      "For a 30-mortgage loan of $100000 at an annual interest rate of 7.50% you pay $699.21 monthly. Total amount paid will be $251717.22\n"
     ]
    }
   ],
   "source": [
    "P= int(input(\"Input your principal: \")) \n",
    "rate = float(input(\"Input your annual interest: \"))\n",
    "years = int(input(\"Input the number of years: \"))\n",
    "\n",
    "\n",
    "#monthly interest rate\n",
    "i = rate/100/12\n",
    "#payment time in months\n",
    "n = years*12  \n",
    "\n",
    "\n",
    "M= P*((i*(1+i)**n)/((1+i)**n-1))  #M=monthly payments\n",
    "\n",
    "Total_amt_paid = M * n\n",
    "\n",
    "\n",
    "print(\" \")\n",
    "print(\" \")\n",
    "print(\" \")\n",
    "\n",
    "print(f\"For a {years}-mortgage loan of ${P} at an annual interest rate of {rate:.2f}% you pay ${M:.2f} monthly. Total amount paid will be ${Total_amt_paid:.2f}\")"
   ]
  },
  {
   "cell_type": "code",
   "execution_count": null,
   "id": "fac7f243-0549-429e-9a3b-4078ad00351e",
   "metadata": {},
   "outputs": [],
   "source": []
  }
 ],
 "metadata": {
  "kernelspec": {
   "display_name": "Python 3 (ipykernel)",
   "language": "python",
   "name": "python3"
  },
  "language_info": {
   "codemirror_mode": {
    "name": "ipython",
    "version": 3
   },
   "file_extension": ".py",
   "mimetype": "text/x-python",
   "name": "python",
   "nbconvert_exporter": "python",
   "pygments_lexer": "ipython3",
   "version": "3.12.0"
  }
 },
 "nbformat": 4,
 "nbformat_minor": 5
}
